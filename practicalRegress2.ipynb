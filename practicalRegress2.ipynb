{
 "cells": [
  {
   "cell_type": "markdown",
   "metadata": {},
   "source": [
    "## practicalRegress2\n",
    "\n",
    "The goal of this part is to investigate the Bayesian approach to\n",
    "regression\n",
    "\n",
    "Work your way through these Python examples filling in code where it says\n",
    "\"TO DO\"\n",
    "\n"
   ]
  },
  {
   "cell_type": "code",
   "execution_count": 234,
   "metadata": {
    "collapsed": true
   },
   "outputs": [],
   "source": [
    "import os \n",
    "import numpy as np\n",
    "import matplotlib.pyplot as plt\n",
    "import scipy.io as spio\n",
    "import scipy\n",
    "from scipy import optimize\n",
    "from numpy import sqrt, pi, exp, transpose, matmul\n",
    "from numpy.linalg import det, inv\n",
    "\n",
    "%matplotlib inline"
   ]
  },
  {
   "cell_type": "code",
   "execution_count": 235,
   "metadata": {
    "scrolled": false
   },
   "outputs": [
    {
     "data": {
      "image/png": "[encoded data removed]",
      "text/plain": [
       "<Figure size 432x288 with 1 Axes>"
      ]
     },
     "metadata": {
      "needs_background": "light"
     },
     "output_type": "display_data"
    }
   ],
   "source": [
    "#set seeds for random number generators \n",
    "#so we get the same random numbers each time\n",
    "np.random.seed(5)\n",
    "\n",
    "#define actual parameters\n",
    "offsetActual = 1.5;  # this is phi_0 in the notes\n",
    "slopeActual = -0.8;  # this is phi_1 in the notes\n",
    "noiseActual = 0.01;  # this is sigma^2 in the notes\n",
    "\n",
    "#generate some data \n",
    "nData = 5\n",
    "X = np.random.rand(1,nData);\n",
    "X = np.array([[0.5645,0.3024,0.7520,0.4752,0.1684]])\n",
    "\n",
    "r_w = np.array([[ 0.3606, 1.5850,-0.4865,-1.5375,0.3576]]);\n",
    "\n",
    "w = offsetActual + slopeActual * X + np.sqrt(noiseActual) * r_w\n",
    "\n",
    "#Transpose w so that it is a column vector like in the notes\n",
    "w = w.transpose()\n",
    "\n",
    "#Add a row of ones to the start of X\n",
    "X = np.vstack([np.ones((1,X.shape[1])) ,X])  #X = [ones(1,size(X,2));X];\n",
    "nDim = X.shape[0]\n",
    "\n",
    "#display this data\n",
    "fig=plt.figure()\n",
    "plt.plot(X[1,:],w.squeeze(),'r.')\n",
    "plt.xlabel('Data-X')\n",
    "plt.ylabel('World-w')\n",
    "fig.axes[0].set_xlim(0,1)\n",
    "fig.axes[0].set_ylim(0,2)\n",
    "plt.show()\n"
   ]
  },
  {
   "cell_type": "code",
   "execution_count": 236,
   "metadata": {
    "collapsed": true
   },
   "outputs": [],
   "source": [
    "#This function evaluates data against the multivariate normal distribution\n",
    "def normalProb(X,normalMean,normCov):\n",
    "    \n",
    "    nDim,nData = X.shape\n",
    "    \n",
    "    if normalMean.ndim == 1:\n",
    "        normalMean = normalMean[:,np.newaxis] # (N,) => (N,1)\n",
    "        \n",
    "    X = X - np.tile(normalMean, (1,nData)) \n",
    "\n",
    "    l = np.sum( inv(normCov)@X*X ,axis=0,keepdims=True) # (1,N)\n",
    "    l = ( 1/np.sqrt(det(normCov)*((2*np.pi)**nDim) ))* np.exp(-0.5*l) \n",
    "    return l\n",
    "\n",
    "         \n",
    "#This function returns the negative log marginal likelihood\n",
    "def negLogMarginalLike(logSigmaSq,X,w,sigmaPSq):\n",
    "\n",
    "    sigmaSq = np.exp(logSigmaSq)\n",
    "    \n",
    "    L = normalProb( w, np.zeros_like(w), X.transpose()@X*sigmaPSq + np.eye(X.shape[1])*sigmaSq)\n",
    "    L = -1 * np.sum(np.log(L))\n",
    "    return L\n",
    "\n",
    "\n",
    "#The goal of this routine is to take data X and w and the prior variance\n",
    "#scale sigmaPSq and return the estimated variance of the linear regression model.  \n",
    "#It does this by optimizing the marginal likelihood\n",
    "def estNoiseParameter(X,w,sigmaPSq):\n",
    "\n",
    "    # initial estimate for variance\n",
    "    sigmaSqInit = np.var(w)\n",
    "    \n",
    "    # take logarithm (so optimization routine doesn`t have to constrain to be positive)\n",
    "    logSigmaSqInit = np.log(sigmaSqInit)\n",
    "    \n",
    "    # minimizes the negative log marginal likelihood\n",
    "    logSigmaSq = scipy.optimize.fmin(\n",
    "        func=lambda logSigmaSq:negLogMarginalLike(logSigmaSq, X,w,sigmaPSq), x0=logSigmaSqInit, disp=False)\n",
    "    \n",
    "    # exponentiate to return to positive value\n",
    "    sigmaSq = exp(logSigmaSq)\n",
    "\n",
    "    return sigmaSq\n"
   ]
  },
  {
   "cell_type": "markdown",
   "metadata": {},
   "source": [
    "\n",
    "### TODO  - fill in this routine (see cell below, fitLinearRegressionBayes)"
   ]
  },
  {
   "cell_type": "code",
   "execution_count": 237,
   "metadata": {},
   "outputs": [],
   "source": [
    "#The goal of this routine is to take data X and w and the prior variance\n",
    "#scale sigmaPSq and return the mean and covariance of the posterior\n",
    "#distribution of the vector phi = [offset;slope];\n",
    "\n",
    "def fitLinearRegressionBayes(X,w,sigmaSq,sigmaPSq):\n",
    "\n",
    "    #retrieve dimensionality and number of data points \n",
    "    nDim,nData = X.shape\n",
    "    \n",
    "    #TO DO compute A matrix (using either equation 8.11 or 8.13 from notes - Slide 8-14)\n",
    "    #REPLACE THIS\n",
    "    A = (1/sigmaSq)*np.dot(X, X.T) + (1/sigmaPSq)*np.eye(nDim)\n",
    "    \n",
    "    if not (A.shape[0] == nDim and A.shape[1] == nDim):\n",
    "        raise ValueError('A should be a square matrix, size nDim x nDim')\n",
    "    else:\n",
    "        pass\n",
    "\n",
    "    #TODO compute posterior mean and variance of phi vector (contains offset and slope)\n",
    "    #REPLACE THIS:\n",
    "    posteriorPhiMean = (1/sigmaSq)*np.dot(np.dot(np.linalg.inv(A), X), w)\n",
    "    posteriorPhiCov = np.linalg.inv(A)\n",
    "    \n",
    "    \n",
    "    #checking sizes of output values are correct\n",
    "    if not ( posteriorPhiCov.shape[0] == nDim and posteriorPhiCov.shape[1] == nDim):\n",
    "        raise ValueError('posteriorPhiCov should be a nDim x nDim matrix')\n",
    "    elif not ( posteriorPhiMean.squeeze().ndim == 1 and posteriorPhiMean.size == nDim):\n",
    "        raise ValueError('posteriorPhiMean should be a nDim x 1 vector')\n",
    "    else:\n",
    "        pass\n",
    "\n",
    "    return posteriorPhiMean,posteriorPhiCov,A\n"
   ]
  },
  {
   "cell_type": "code",
   "execution_count": 238,
   "metadata": {},
   "outputs": [],
   "source": [
    "#define a normal prior on the slope and offset parameters\n",
    "sigmaPSq = 1\n",
    "\n",
    "priorPhiMean = np.zeros([nDim,1])\n",
    "priorPhiCov = np.eye(nDim)*sigmaPSq\n",
    "\n",
    "#fit the noise parameter to the model \n",
    "#I've done this for you , but you should check out how it works\n",
    "sigmaSq= estNoiseParameter(X,w,sigmaPSq);\n",
    "\n",
    "#now the problem is to fit the data - we find a normal  probability distribution\n",
    "#over the parameter vector phi\n",
    "posteriorPhiMean,posteriorPhiCov,A = fitLinearRegressionBayes(X,w,sigmaSq,sigmaPSq)\n"
   ]
  },
  {
   "cell_type": "code",
   "execution_count": 239,
   "metadata": {},
   "outputs": [
    {
     "data": {
      "image/png": "[encoded data removed]",
      "text/plain": [
       "<Figure size 432x288 with 2 Axes>"
      ]
     },
     "metadata": {
      "needs_background": "light"
     },
     "output_type": "display_data"
    }
   ],
   "source": [
    "#****************************************************************\n",
    "#display the prior and posterior over the parameters\n",
    "#create arrays of x and w positions\n",
    "xFigRange =np.arange(-2,2.001,step=0.01) # -2.0:0.01:2.0;\n",
    "wFigRange =np.arange(-2,2.001,step=0.01) # -2.0:0.01:2.0;\n",
    "\n",
    "xFig = np.tile(xFigRange[np.newaxis,:] , (wFigRange.size,1))\n",
    "wFig = np.tile(wFigRange[:,np.newaxis] , (1,xFigRange.size))\n",
    "\n",
    "#evaluate the Gaussians before and after\n",
    "xwDrawData = np.vstack([xFig.flatten(),wFig.flatten()])\n",
    "\n",
    "prior = normalProb(xwDrawData,priorPhiMean,priorPhiCov)\n",
    "prior = np.reshape(prior,xFig.shape)\n",
    "\n",
    "posterior = normalProb(xwDrawData,posteriorPhiMean,posteriorPhiCov)\n",
    "posterior = np.reshape(posterior,xFig.shape);\n",
    "\n",
    "fig=plt.figure()\n",
    "ax1=plt.subplot(1,2,1) \n",
    "plt.imshow(prior) \n",
    "plt.xlabel(\"Offset\")\n",
    "plt.ylabel(\"Slope\")\n",
    "plt.title(\"Prior\")\n",
    "plt.axis('image')\n",
    "plt.set_cmap('jet')\n",
    "ax1.set_xticks([1,xFigRange.size])\n",
    "ax1.set_yticks([1,wFigRange.size])\n",
    "ax1.set_xticklabels(['-2.0','2.0']) \n",
    "ax1.set_yticklabels(['-2.0','2.0']) \n",
    "\n",
    "ax2=plt.subplot(1,2,2)\n",
    "plt.imshow(posterior) \n",
    "plt.xlabel(\"Offset\")\n",
    "plt.ylabel(\"Slope\")\n",
    "plt.title(\"Posterior\")\n",
    "plt.axis('image') \n",
    "plt.set_cmap('jet')\n",
    "ax2.set_xticks([1,xFigRange.size])\n",
    "ax2.set_yticks([1,wFigRange.size])\n",
    "ax2.set_xticklabels(['-2.0','2.0']) \n",
    "ax2.set_yticklabels(['-2.0','2.0']) \n",
    "\n",
    "# Prevent subplots from bunching up\n",
    "plt.tight_layout()\n",
    "\n",
    "#****************************************************************"
   ]
  },
  {
   "cell_type": "markdown",
   "metadata": {},
   "source": [
    "** Let's draw a figure to show the posterior probability of the world as a function of the data **"
   ]
  },
  {
   "cell_type": "code",
   "execution_count": 240,
   "metadata": {},
   "outputs": [
    {
     "data": {
      "image/png": "[encoded data removed]",
      "text/plain": [
       "<Figure size 432x288 with 1 Axes>"
      ]
     },
     "metadata": {
      "needs_background": "light"
     },
     "output_type": "display_data"
    }
   ],
   "source": [
    "#For every xStar, the model predicts a normal distribution over w\n",
    "XStar = np.arange(0,1.0001,step=0.005)\n",
    "\n",
    "#Add ones to the start of XStar\n",
    "XStar = np.vstack([np.ones_like(XStar),XStar])\n",
    "nDim,nData = XStar.shape\n",
    "\n",
    "# TO DO \n",
    "# Compute the mean and variance of the prediction \n",
    "# for each element of X2. \n",
    "\n",
    "predMean=np.zeros((XStar.shape[1]))\n",
    "predVar=np.zeros((XStar.shape[1]))\n",
    "# Replace this:\n",
    "for cX in range(XStar.shape[1]):\n",
    "    predMean[cX] = (1/sigmaSq)*np.dot((np.dot(XStar.T[cX], np.linalg.inv(A))), np.dot(X, w))\n",
    "    predVar[cX] = np.dot(XStar.T[cX], np.dot(np.linalg.inv(A), XStar.T[cX])) + sigmaSq\n",
    "\n",
    "# checking predMean and predVar are of the correct dimensions\n",
    "if not (predMean.squeeze().ndim ==1 and predMean.size == XStar.shape[1] ):\n",
    "    raise ValueError('predMean should be a vector of same length as XStar')\n",
    "elif not ( predVar.squeeze().ndim ==1 and predVar.size == XStar.shape[1] ):\n",
    "    raise ValueError('predVar should be a vector of same length as XStar')\n",
    "else:\n",
    "    pass\n",
    "\n",
    "#compute the pixel colours for the image - one Gaussian in each column\n",
    "wFig = np.arange(0,2.0001,step=0.005) #0:0.005:2;\n",
    "postFun = np.zeros((wFig.size, XStar.shape[1]));\n",
    "\n",
    "for cX in range(XStar.shape[1]):\n",
    "    postFun[:,cX] = (1 / np.sqrt(2*np.pi*predVar[cX]))\n",
    "    postFun[:,cX] = postFun[:,cX] * np.exp(-0.5 * ((wFig-predMean[cX])**2) / predVar[cX] )\n",
    "\n",
    "# draw the figure\n",
    "fig=plt.figure()\n",
    "plt.imshow(postFun)\n",
    "plt.set_cmap('hot')\n",
    "plt.gca().invert_yaxis() \n",
    "\n",
    "plt.plot((X[1,:]-XStar[1,0])/(XStar[1,1]-XStar[1,0]), ((w.transpose()-wFig[0])/(wFig[1]-wFig[0])).squeeze(),'bo')\n",
    "#draw the units on the graph\n",
    "ax0=fig.axes[0]\n",
    "ax0.set_xticks([1,XStar.shape[1]])\n",
    "ax0.set_xticklabels([0,1])\n",
    "ax0.set_yticks([1,wFig.size])\n",
    "ax0.set_yticklabels([0,1])\n",
    "ax0.set_aspect('auto')\n",
    "plt.xlabel('x')\n",
    "plt.ylabel('w')\n",
    "plt.title('Pr(w|x)')\n",
    "\n",
    "plt.show()"
   ]
  },
  {
   "cell_type": "markdown",
   "metadata": {},
   "source": [
    "\n",
    "### TO DO (AT HOME IF YOU ARE KEEN): \n",
    "Convert this to non-linear regression by passing the data\n",
    "through a non-linear transformation.  \n",
    "When you do this you'll have to \n",
    "comment out the section between the \\#\\*\\*\\*\\*\\* #\\*\\*\\*\\*\\* as the prior and posterior\n",
    "are no longer 2 dimensional.\n",
    "You'll also have to load in the non-linear data and make sure that the\n",
    "final plot is drawn with sensible axes."
   ]
  },
  {
   "cell_type": "code",
   "execution_count": null,
   "metadata": {
    "collapsed": true
   },
   "outputs": [],
   "source": []
  }
 ],
 "metadata": {
  "interpreter": {
   "hash": "08a8be6be2e8930bf7a7b9a2bbce9e9a00a049a7e1e11f1e3cdcb9b90ba40a1f"
  },
  "kernelspec": {
   "display_name": "Python 3.8.5 64-bit ('base': conda)",
   "name": "python3"
  },
  "language_info": {
   "codemirror_mode": {
    "name": "ipython",
    "version": 3
   },
   "file_extension": ".py",
   "mimetype": "text/x-python",
   "name": "python",
   "nbconvert_exporter": "python",
   "pygments_lexer": "ipython3",
   "version": "3.8.5"
  }
 },
 "nbformat": 4,
 "nbformat_minor": 2
}
