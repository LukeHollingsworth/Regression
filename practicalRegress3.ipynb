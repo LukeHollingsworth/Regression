{
 "cells": [
  {
   "cell_type": "markdown",
   "metadata": {},
   "source": [
    "## practicalRegress3\n",
    "\n",
    "\n",
    "The goal of this practical is to implement non-linear regression method\n",
    "\n",
    "Work your way through these Python examples filling in code where it says\n",
    "\"TO DO\"\n"
   ]
  },
  {
   "cell_type": "code",
   "execution_count": 38,
   "metadata": {
    "collapsed": true
   },
   "outputs": [],
   "source": [
    "import os \n",
    "import numpy as np\n",
    "import matplotlib.pyplot as plt\n",
    "import scipy.io as spio\n",
    "import scipy\n",
    "from numpy import sqrt, pi, exp, transpose, matmul\n",
    "from numpy.linalg import det, inv\n",
    "\n",
    "%matplotlib inline"
   ]
  },
  {
   "cell_type": "markdown",
   "metadata": {},
   "source": [
    "\n",
    "## TO DO \n",
    "** First Run this file(all cells). It implements linear regression on a dataset that is clearly not very linear. \n",
    "It's a horrible fit! **\n",
    "\n",
    "** Your job is to improve this by doing non-linear regression (as in Figure 8.6). **\n"
   ]
  },
  {
   "cell_type": "code",
   "execution_count": 39,
   "metadata": {
    "collapsed": true
   },
   "outputs": [],
   "source": [
    "#load data\n",
    "X = spio.loadmat('nonLinearData.mat')['X']\n",
    "w = spio.loadmat('nonLinearData.mat', squeeze_me=True)['w']\n"
   ]
  },
  {
   "cell_type": "code",
   "execution_count": 40,
   "metadata": {
    "collapsed": true
   },
   "outputs": [],
   "source": [
    "#The goal of this method is to pass the data through a non-linear transformation\n",
    "def nonLinearTransform(X):\n",
    "\n",
    "    #TO DO \n",
    "    #FIRST REMOVE THESE TWO LINES\n",
    "    # X2 = X\n",
    "    # return X\n",
    "    \n",
    "    #-------------------\n",
    "    nDim,nData = X.shape\n",
    "\n",
    "    #create space for output data\n",
    "    X2 = np.zeros((6,nData))\n",
    "    \n",
    "    #For each data point\n",
    "    for cData in range(nData):\n",
    "        thisX = X[:,cData]\n",
    "\n",
    "        #TO DO: perform non-linear transformation on thisX:\n",
    "        #To do this evaluate this X against the 6 RBF functions in Figure 8.6b (Slide 8-24)\n",
    "        #They are 6 Gaussians with means\n",
    "        # -2.5 -1.5 -0.5 0.5 1.5 and 2.5, and variances of 0.16;\n",
    "        \n",
    "        #Replace this:\n",
    "        transformedX1 = np.exp(-((thisX + 2.5)**2)/0.16)\n",
    "        transformedX2 = np.exp(-((thisX + 1.5)**2)/0.16)\n",
    "        transformedX3 = np.exp(-((thisX + 0.5)**2)/0.16)\n",
    "        transformedX4 = np.exp(-((thisX - 0.5)**2)/0.16)\n",
    "        transformedX5 = np.exp(-((thisX - 1.5)**2)/0.16)\n",
    "        transformedX6 = np.exp(-((thisX - 2.5)**2)/0.16)\n",
    "        \n",
    "        #store\n",
    "        X2[0, cData] = transformedX1\n",
    "        X2[1, cData] = transformedX2\n",
    "        X2[2, cData] = transformedX3\n",
    "        X2[3, cData] = transformedX4\n",
    "        X2[4, cData] = transformedX5\n",
    "        X2[5, cData] = transformedX6\n",
    "\n",
    "    print(X2)\n",
    "    # checking for size of X2\n",
    "    if not ( X2.shape == (6, nData) ):\n",
    "        raise ValueError('X2 should have dimensions 6 x nData')\n",
    "    else:\n",
    "        pass\n",
    "    \n",
    "    return X2\n",
    "    "
   ]
  },
  {
   "cell_type": "code",
   "execution_count": 41,
   "metadata": {
    "collapsed": true
   },
   "outputs": [],
   "source": [
    "#The goal of this routine is to take data X and w and fit the three\n",
    "#parameters of the linear regression model\n",
    "def fitLinearRegressionML(X,w):\n",
    "\n",
    "    #number of data points \n",
    "    nDim,nData = X.shape\n",
    "\n",
    "    #add a one to the start of each data example x\n",
    "    X = np.vstack([np.ones((1,nData)) ,X])\n",
    "    \n",
    "    #compute phi vector (contains offset and slope)\n",
    "    phi = inv(X@X.transpose())@X@w\n",
    "\n",
    "    #extract the slope and offset from this vector\n",
    "    offsetEst = phi[0]\n",
    "    slopeEst = phi[1:]\n",
    "\n",
    "    #compute the variance parameter\n",
    "    Xt=X.transpose()\n",
    "    noiseEst = (w-Xt@phi).transpose()@(w-Xt@phi)/nData;\n",
    "        \n",
    "    return offsetEst,slopeEst,noiseEst\n"
   ]
  },
  {
   "cell_type": "code",
   "execution_count": 42,
   "metadata": {},
   "outputs": [
    {
     "data": {
      "image/png": "[encoded data removed]",
      "text/plain": [
       "<Figure size 432x288 with 1 Axes>"
      ]
     },
     "metadata": {
      "needs_background": "light"
     },
     "output_type": "display_data"
    }
   ],
   "source": [
    "#display this data\n",
    "fig=plt.figure()\n",
    "plt.plot(X[0,:],w.squeeze(),'r.')\n",
    "plt.xlabel('Data, X')\n",
    "plt.ylabel('World, w')\n",
    "fig.axes[0].set_xlim(-3,3)\n",
    "fig.axes[0].set_ylim(-1.5,1.5)\n",
    "plt.show()\n"
   ]
  },
  {
   "cell_type": "code",
   "execution_count": 43,
   "metadata": {},
   "outputs": [
    {
     "name": "stdout",
     "output_type": "stream",
     "text": [
      "[[5.43610772e-21 2.06793364e-09 7.92530148e-01 1.04839428e-04\n",
      "  2.34295785e-05 6.42105971e-01 1.44562841e-07 5.94717554e-03\n",
      "  8.74384611e-01 9.33032928e-01 1.73304806e-24 2.04418583e-11\n",
      "  8.53871354e-13 3.30230586e-01 3.39812208e-80 3.95110713e-05\n",
      "  4.54350767e-07 8.68979936e-20 3.01958217e-25 3.63943625e-40\n",
      "  9.99830832e-01 2.92636469e-01 2.42575872e-19 1.01550768e-03\n",
      "  1.22102273e-01 2.36323252e-11 5.68612853e-01 8.32182557e-38\n",
      "  3.92888660e-51 1.46600331e-35]\n",
      " [7.14599991e-09 2.04888980e-02 1.37269330e-04 7.57455702e-01\n",
      "  5.56812671e-01 3.45591671e-02 1.15706414e-01 9.45742083e-01\n",
      "  1.05426052e-02 6.71823560e-03 3.85784989e-11 2.34031157e-03\n",
      "  4.61346415e-04 1.23073888e-01 1.55136934e-53 6.26199251e-01\n",
      "  1.74375033e-01 4.07847780e-08 1.20767684e-11 3.46547883e-22\n",
      "  1.80859651e-03 2.21238104e-06 7.71076948e-08 9.84414689e-01\n",
      "  3.32135232e-01 2.51462648e-03 2.56388749e-05 1.86418502e-20\n",
      "  1.87845749e-30 7.92974401e-19]\n",
      " [3.50071645e-02 7.56518548e-01 8.86033641e-14 2.03943004e-02\n",
      "  4.93142827e-02 6.93168473e-09 3.45125595e-01 5.60471646e-04\n",
      "  4.73709787e-10 1.80273739e-10 3.20036138e-03 9.98495154e-01\n",
      "  9.28925389e-01 1.70935995e-07 2.63943159e-32 3.69849690e-02\n",
      "  2.49399923e-01 7.13354544e-02 1.80000453e-03 1.22973451e-09\n",
      "  1.21920245e-11 6.23319026e-17 9.13412215e-02 3.55624714e-03\n",
      "  3.36686048e-06 9.97147700e-01 4.30824338e-15 1.55624652e-08\n",
      "  3.34697313e-15 1.59846216e-07]\n",
      " [6.39101506e-01 1.04097317e-04 2.13130638e-28 2.04634739e-09\n",
      "  1.62762858e-08 5.18123526e-21 3.83632931e-06 1.23780877e-12\n",
      "  7.93223822e-23 1.80272166e-23 9.89399511e-01 1.58758585e-03\n",
      "  6.97033244e-03 8.84749042e-19 1.67349566e-16 8.14061001e-09\n",
      "  1.32931316e-06 4.64977285e-01 9.99805297e-01 1.62621682e-02\n",
      "  3.06287267e-25 6.54455038e-33 4.03231904e-01 4.78767609e-11\n",
      "  1.27190382e-16 1.47354864e-03 2.69786660e-30 4.84157596e-02\n",
      "  2.22239911e-05 1.20078299e-01]\n",
      " [4.34812201e-05 5.33799876e-14 1.91055936e-48 7.65189297e-22\n",
      "  2.00196679e-20 1.44326739e-38 1.58918174e-16 1.01876131e-26\n",
      "  4.94991926e-41 6.71805979e-42 1.13989104e-03 9.40692009e-12\n",
      "  1.94914939e-10 1.70657609e-35 3.95419196e-06 6.67740345e-21\n",
      "  2.64044587e-17 1.12947603e-05 2.06955154e-03 8.01427998e-01\n",
      "  2.86748420e-44 2.56075614e-54 6.63379329e-06 2.40201969e-24\n",
      "  1.79061574e-32 8.11499832e-12 6.29592710e-51 5.61324609e-01\n",
      "  5.49934368e-01 3.36159720e-01]\n",
      " [1.10243395e-14 1.02008504e-28 6.38254907e-74 1.06629504e-39\n",
      "  9.17650718e-38 1.49823267e-61 2.45329758e-32 3.12471421e-46\n",
      "  1.15111697e-64 9.32992234e-66 4.89411266e-12 2.07719212e-25\n",
      "  2.03121426e-23 1.22673339e-57 3.48184859e-01 2.04116099e-38\n",
      "  1.95454741e-33 1.02244811e-15 1.59645262e-11 1.47187033e-04\n",
      "  1.00044243e-68 3.73401113e-81 4.06712910e-16 4.49104432e-43\n",
      "  9.39440978e-54 1.66544912e-25 5.47542565e-77 2.42527166e-05\n",
      "  5.07129231e-02 3.50708098e-06]]\n",
      "[[2.09611387e-01 2.22990747e-01 2.36927759e-01 ... 3.07092133e-82\n",
      "  1.54705423e-82 7.78394064e-83]\n",
      " [7.81148941e-07 9.41656762e-07 1.13372714e-06 ... 3.32736305e-55\n",
      "  1.89943242e-55 1.08294060e-55]\n",
      " [1.08485526e-17 1.48189486e-17 2.02171585e-17 ... 1.34354020e-33\n",
      "  8.69082752e-34 5.61472809e-34]\n",
      " [5.61472809e-34 8.69082752e-34 1.34354020e-33 ... 2.02171585e-17\n",
      "  1.48189486e-17 1.08485526e-17]\n",
      " [1.08294060e-55 1.89943242e-55 3.32736305e-55 ... 1.13372714e-06\n",
      "  9.41656762e-07 7.81148941e-07]\n",
      " [7.78394064e-83 1.54705423e-82 3.07092133e-82 ... 2.36927759e-01\n",
      "  2.22990747e-01 2.09611387e-01]]\n"
     ]
    },
    {
     "data": {
      "image/png": "[encoded data removed]",
      "text/plain": [
       "<Figure size 432x288 with 1 Axes>"
      ]
     },
     "metadata": {
      "needs_background": "light"
     },
     "output_type": "display_data"
    }
   ],
   "source": [
    "#TO DO \n",
    "#To implement non-linear regression, we simply pass the data through\n",
    "#a non-linearity before we do the regression\n",
    "#Fill in the routine (nonLinearTransform)\n",
    "XTransform = nonLinearTransform(X);\n",
    "\n",
    "#now the problem is to fit the data\n",
    "offsetEst,slopeEst,noiseEst = fitLinearRegressionML(XTransform,w);\n",
    "\n",
    "#Let's make some draw a figure to show the posterior probability \n",
    "#of the world as a function of the data\n",
    "#For every x, the model predicts a normal distribution over w\n",
    "X2=np.arange(-3,3.001,step=0.01) \n",
    "X2=X2[np.newaxis,:] # => (nDim,nData) \n",
    "X2Transform = nonLinearTransform(X2)\n",
    "\n",
    "#Compute the mean and variance of the prediction for each element of X2.  \n",
    "predMean=slopeEst.transpose()@X2Transform+offsetEst\n",
    "predMean=predMean.squeeze()\n",
    "predVar=noiseEst*np.ones(X2Transform.shape[1])\n",
    "predVar=predVar.squeeze()\n",
    "\n",
    "#compute the pixel colours for the image - one Gaussian in each column\n",
    "wFig = np.arange(-1.5,1.5001,step=0.01) \n",
    "postFun = np.zeros((wFig.size,X2.shape[1]))\n",
    "for cX in range(X2.shape[1]):\n",
    "    postFun[:,cX]=(1/np.sqrt(2*np.pi*predVar[cX]))*np.exp(-0.5 *((wFig-predMean[cX])**2)/predVar[cX])\n",
    "    \n",
    "\n",
    "# draw the figure\n",
    "fig=plt.figure()\n",
    "plt.imshow(postFun)\n",
    "plt.set_cmap('hot')\n",
    "plt.gca().invert_yaxis() \n",
    "\n",
    "\n",
    "#draw the points on top - they need to be rescaled so that they are in the \n",
    "#units of the pixels used to draw the picture\n",
    "plt.plot(((X-X2[0,0])/(X2[0,1]-X2[0,0])).squeeze(), (w.transpose()-wFig[0])/(wFig[1]-wFig[0]),'bo')\n",
    "\n",
    "#draw the units on the graph\n",
    "ax0=fig.axes[0]\n",
    "ax0.set_xticks([1,X2.shape[1]])\n",
    "ax0.set_xticklabels([0,1])\n",
    "ax0.set_yticks([1,wFig.size])\n",
    "ax0.set_yticklabels([0,1])\n",
    "ax0.set_aspect('auto')\n",
    "plt.xlabel('x')\n",
    "plt.ylabel('w')\n",
    "plt.title('Pr(w|x)')\n",
    "plt.show()\n",
    "\n",
    "#TO DO\n",
    "#When you've got this working you could try change this to work with the \n",
    "#arc tan functions if you like (figure 8.7)\n",
    "# Note: Try some parameters, see if you can find better ones by trial and error. \n",
    "# Wouldn't it be nice to have a huge (or infinite?) set of basis functions? \n",
    "# Possible with Gaussian Process Regression!\n"
   ]
  },
  {
   "cell_type": "code",
   "execution_count": null,
   "metadata": {
    "collapsed": true
   },
   "outputs": [],
   "source": []
  }
 ],
 "metadata": {
  "interpreter": {
   "hash": "08a8be6be2e8930bf7a7b9a2bbce9e9a00a049a7e1e11f1e3cdcb9b90ba40a1f"
  },
  "kernelspec": {
   "display_name": "Python 3.8.5 64-bit ('base': conda)",
   "name": "python3"
  },
  "language_info": {
   "codemirror_mode": {
    "name": "ipython",
    "version": 3
   },
   "file_extension": ".py",
   "mimetype": "text/x-python",
   "name": "python",
   "nbconvert_exporter": "python",
   "pygments_lexer": "ipython3",
   "version": "3.8.5"
  }
 },
 "nbformat": 4,
 "nbformat_minor": 2
}
